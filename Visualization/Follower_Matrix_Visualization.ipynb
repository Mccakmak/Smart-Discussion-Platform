{
 "cells": [
  {
   "cell_type": "code",
   "execution_count": 1,
   "id": "bbb023c0",
   "metadata": {},
   "outputs": [],
   "source": [
    "import matplotlib.pyplot as plt\n",
    "import networkx as nx\n",
    "import pandas as pd\n",
    "import ftplib\n",
    "import sched, time"
   ]
  },
  {
   "cell_type": "code",
   "execution_count": 14,
   "id": "cf1c018a",
   "metadata": {},
   "outputs": [
    {
     "ename": "KeyboardInterrupt",
     "evalue": "",
     "output_type": "error",
     "traceback": [
      "\u001b[1;31m---------------------------------------------------------------------------\u001b[0m",
      "\u001b[1;31mKeyboardInterrupt\u001b[0m                         Traceback (most recent call last)",
      "\u001b[1;32m<ipython-input-14-b26cb341261c>\u001b[0m in \u001b[0;36m<module>\u001b[1;34m\u001b[0m\n\u001b[0;32m     78\u001b[0m \u001b[1;33m\u001b[0m\u001b[0m\n\u001b[0;32m     79\u001b[0m \u001b[0ms\u001b[0m\u001b[1;33m.\u001b[0m\u001b[0menter\u001b[0m\u001b[1;33m(\u001b[0m\u001b[1;36m10\u001b[0m\u001b[1;33m,\u001b[0m \u001b[1;36m1\u001b[0m\u001b[1;33m,\u001b[0m \u001b[0msend_follower_matrix\u001b[0m\u001b[1;33m,\u001b[0m \u001b[1;33m(\u001b[0m\u001b[0ms\u001b[0m\u001b[1;33m,\u001b[0m\u001b[1;33m)\u001b[0m\u001b[1;33m)\u001b[0m\u001b[1;33m\u001b[0m\u001b[1;33m\u001b[0m\u001b[0m\n\u001b[1;32m---> 80\u001b[1;33m \u001b[0ms\u001b[0m\u001b[1;33m.\u001b[0m\u001b[0mrun\u001b[0m\u001b[1;33m(\u001b[0m\u001b[1;33m)\u001b[0m\u001b[1;33m\u001b[0m\u001b[1;33m\u001b[0m\u001b[0m\n\u001b[0m",
      "\u001b[1;32mc:\\users\\mccak\\appdata\\local\\programs\\python\\python38\\lib\\sched.py\u001b[0m in \u001b[0;36mrun\u001b[1;34m(self, blocking)\u001b[0m\n\u001b[0;32m    147\u001b[0m                 \u001b[1;32mif\u001b[0m \u001b[1;32mnot\u001b[0m \u001b[0mblocking\u001b[0m\u001b[1;33m:\u001b[0m\u001b[1;33m\u001b[0m\u001b[1;33m\u001b[0m\u001b[0m\n\u001b[0;32m    148\u001b[0m                     \u001b[1;32mreturn\u001b[0m \u001b[0mtime\u001b[0m \u001b[1;33m-\u001b[0m \u001b[0mnow\u001b[0m\u001b[1;33m\u001b[0m\u001b[1;33m\u001b[0m\u001b[0m\n\u001b[1;32m--> 149\u001b[1;33m                 \u001b[0mdelayfunc\u001b[0m\u001b[1;33m(\u001b[0m\u001b[0mtime\u001b[0m \u001b[1;33m-\u001b[0m \u001b[0mnow\u001b[0m\u001b[1;33m)\u001b[0m\u001b[1;33m\u001b[0m\u001b[1;33m\u001b[0m\u001b[0m\n\u001b[0m\u001b[0;32m    150\u001b[0m             \u001b[1;32melse\u001b[0m\u001b[1;33m:\u001b[0m\u001b[1;33m\u001b[0m\u001b[1;33m\u001b[0m\u001b[0m\n\u001b[0;32m    151\u001b[0m                 \u001b[0maction\u001b[0m\u001b[1;33m(\u001b[0m\u001b[1;33m*\u001b[0m\u001b[0margument\u001b[0m\u001b[1;33m,\u001b[0m \u001b[1;33m**\u001b[0m\u001b[0mkwargs\u001b[0m\u001b[1;33m)\u001b[0m\u001b[1;33m\u001b[0m\u001b[1;33m\u001b[0m\u001b[0m\n",
      "\u001b[1;31mKeyboardInterrupt\u001b[0m: "
     ]
    }
   ],
   "source": [
    "s = sched.scheduler(time.time, time.sleep)\n",
    "def send_follower_matrix(sc): \n",
    "    \n",
    "    # Read file\n",
    "    \n",
    "    session = ftplib.FTP('ftp.smartdiscussionplatform.com','file@smartdiscussionplatform.com','1YHDQ@i9XUl;')\n",
    "    file = open('follower_matrix.csv','wb')                                             # name the file\n",
    "    session.retrbinary('RETR public_html/matrixes/follower_matrix.csv', file.write)     # read the file\n",
    "    file.close()                                                                        # close file and FTP\n",
    "    session.quit()\n",
    "    \n",
    "    df = pd.read_csv('follower_matrix.csv')\n",
    "    \n",
    "    # Take user1-user2 nodes not user1-user1\n",
    "    user_num = len(df)\n",
    "    nodes = []\n",
    "    for i in range(user_num):\n",
    "        for j in range(user_num):\n",
    "            if i==j:\n",
    "                continue\n",
    "            elif df.iloc[i][j] == 1:\n",
    "                nodes.append([df.columns[i], df.columns[j]])    \n",
    "                \n",
    "                \n",
    "    # Create a directed multi-graph\n",
    "    G = nx.MultiDiGraph()\n",
    "    G.add_edges_from(nodes)\n",
    "\n",
    "    node_len = len(G)\n",
    "\n",
    "    # colors\n",
    "    colors = ['red','green','royalblue','yellow','cyan','orange','pink','red','chartreuse','magenta']\n",
    "    color_len = len(colors)\n",
    "    \n",
    "    # Add colors to nodes\n",
    "    node_colors = []\n",
    "    if node_len < color_len:\n",
    "        for color in range(node_len):\n",
    "            node_colors.append(colors[color])\n",
    "    else:\n",
    "        color = 0\n",
    "        total_color = 0\n",
    "        while(True):\n",
    "            if total_color == node_len:\n",
    "                break\n",
    "            elif color == color_len:\n",
    "                color = 0\n",
    "            node_colors.append(colors[color])\n",
    "            color += 1\n",
    "            total_color += 1\n",
    "            \n",
    "    \n",
    "    # plot the graph\n",
    "    plt.figure(figsize=(8,8))\n",
    "    nx.draw(\n",
    "        G, \n",
    "        node_size = 250, \n",
    "        with_labels = True,\n",
    "        node_color = node_colors,\n",
    "        arrowsize = 6,\n",
    "        connectionstyle='arc3, rad = 0.5')\n",
    "\n",
    "    # Save        \n",
    "    plt.savefig(\"Follower_graph.png\", format=\"PNG\", dpi=300, bbox_inches='tight')\n",
    "\n",
    "    #plt.show() \n",
    "    \n",
    "    plt.close()\n",
    "    \n",
    "    session = ftplib.FTP('ftp.smartdiscussionplatform.com','file@smartdiscussionplatform.com','1YHDQ@i9XUl;')\n",
    "    file = open('Follower_graph.png','rb')                                       # file to send\n",
    "    session.storbinary('STOR public_html/matrixes/Follower_graph.png', file)     # send the file\n",
    "    file.close()                                                                 # close file and FTP\n",
    "    session.quit()\n",
    "    \n",
    "    # do your stuff\n",
    "    s.enter(10, 1, send_follower_matrix, (sc,))\n",
    "\n",
    "s.enter(10, 1, send_follower_matrix, (s,))\n",
    "s.run()"
   ]
  },
  {
   "cell_type": "code",
   "execution_count": null,
   "id": "0222277f",
   "metadata": {},
   "outputs": [],
   "source": []
  }
 ],
 "metadata": {
  "kernelspec": {
   "display_name": "Python 3",
   "language": "python",
   "name": "python3"
  },
  "language_info": {
   "codemirror_mode": {
    "name": "ipython",
    "version": 3
   },
   "file_extension": ".py",
   "mimetype": "text/x-python",
   "name": "python",
   "nbconvert_exporter": "python",
   "pygments_lexer": "ipython3",
   "version": "3.8.9"
  }
 },
 "nbformat": 4,
 "nbformat_minor": 5
}
